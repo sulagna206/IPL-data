{
  "nbformat": 4,
  "nbformat_minor": 0,
  "metadata": {
    "colab": {
      "name": "EDA.ipynb",
      "provenance": [],
      "collapsed_sections": [],
      "authorship_tag": "ABX9TyPa8Y5S/0YWr5izO4NgR7Xi",
      "include_colab_link": true
    },
    "kernelspec": {
      "name": "python3",
      "display_name": "Python 3"
    },
    "language_info": {
      "name": "python"
    }
  },
  "cells": [
    {
      "cell_type": "markdown",
      "metadata": {
        "id": "view-in-github",
        "colab_type": "text"
      },
      "source": [
        "<a href=\"https://colab.research.google.com/github/sulagna206/IPL-data/blob/main/EDA.ipynb\" target=\"_parent\"><img src=\"https://colab.research.google.com/assets/colab-badge.svg\" alt=\"Open In Colab\"/></a>"
      ]
    },
    {
      "cell_type": "code",
      "metadata": {
        "id": "to8XTFA2LQCT"
      },
      "source": [
        "import pandas as pd\n",
        "import numpy as np\n",
        "import matplotlib.pyplot as plt\n",
        "import seaborn as sns\n",
        "%matplotlib inline\n",
        "pd.set_option('max_columns',99999)\n",
        "pd.set_option('max_rows',99999)"
      ],
      "execution_count": null,
      "outputs": []
    },
    {
      "cell_type": "code",
      "metadata": {
        "id": "fuXgZpT-NP1W"
      },
      "source": [
        "data = pd.read_csv('https://sulagna206.github.io/IPL-data/matches.csv')"
      ],
      "execution_count": null,
      "outputs": []
    },
    {
      "cell_type": "code",
      "metadata": {
        "colab": {
          "base_uri": "https://localhost:8080/"
        },
        "id": "XfbdhZKlNgca",
        "outputId": "22b02308-d653-4206-ef1c-1ba7980567f2"
      },
      "source": [
        "data.head(10)"
      ],
      "execution_count": null,
      "outputs": [
        {
          "output_type": "execute_result",
          "data": {
            "text/html": [
              "<div>\n",
              "<style scoped>\n",
              "    .dataframe tbody tr th:only-of-type {\n",
              "        vertical-align: middle;\n",
              "    }\n",
              "\n",
              "    .dataframe tbody tr th {\n",
              "        vertical-align: top;\n",
              "    }\n",
              "\n",
              "    .dataframe thead th {\n",
              "        text-align: right;\n",
              "    }\n",
              "</style>\n",
              "<table border=\"1\" class=\"dataframe\">\n",
              "  <thead>\n",
              "    <tr style=\"text-align: right;\">\n",
              "      <th></th>\n",
              "      <th>id</th>\n",
              "      <th>Season</th>\n",
              "      <th>city</th>\n",
              "      <th>date</th>\n",
              "      <th>team1</th>\n",
              "      <th>team2</th>\n",
              "      <th>toss_winner</th>\n",
              "      <th>toss_decision</th>\n",
              "      <th>result</th>\n",
              "      <th>dl_applied</th>\n",
              "      <th>winner</th>\n",
              "      <th>win_by_runs</th>\n",
              "      <th>win_by_wickets</th>\n",
              "      <th>player_of_match</th>\n",
              "      <th>venue</th>\n",
              "      <th>umpire1</th>\n",
              "      <th>umpire2</th>\n",
              "      <th>umpire3</th>\n",
              "    </tr>\n",
              "  </thead>\n",
              "  <tbody>\n",
              "    <tr>\n",
              "      <th>0</th>\n",
              "      <td>1</td>\n",
              "      <td>IPL-2017</td>\n",
              "      <td>Hyderabad</td>\n",
              "      <td>05-04-2017</td>\n",
              "      <td>Sunrisers Hyderabad</td>\n",
              "      <td>Royal Challengers Bangalore</td>\n",
              "      <td>Royal Challengers Bangalore</td>\n",
              "      <td>field</td>\n",
              "      <td>normal</td>\n",
              "      <td>0</td>\n",
              "      <td>Sunrisers Hyderabad</td>\n",
              "      <td>35</td>\n",
              "      <td>0</td>\n",
              "      <td>Yuvraj Singh</td>\n",
              "      <td>Rajiv Gandhi International Stadium, Uppal</td>\n",
              "      <td>AY Dandekar</td>\n",
              "      <td>NJ Llong</td>\n",
              "      <td>NaN</td>\n",
              "    </tr>\n",
              "    <tr>\n",
              "      <th>1</th>\n",
              "      <td>2</td>\n",
              "      <td>IPL-2017</td>\n",
              "      <td>Pune</td>\n",
              "      <td>06-04-2017</td>\n",
              "      <td>Mumbai Indians</td>\n",
              "      <td>Rising Pune Supergiant</td>\n",
              "      <td>Rising Pune Supergiant</td>\n",
              "      <td>field</td>\n",
              "      <td>normal</td>\n",
              "      <td>0</td>\n",
              "      <td>Rising Pune Supergiant</td>\n",
              "      <td>0</td>\n",
              "      <td>7</td>\n",
              "      <td>SPD Smith</td>\n",
              "      <td>Maharashtra Cricket Association Stadium</td>\n",
              "      <td>A Nand Kishore</td>\n",
              "      <td>S Ravi</td>\n",
              "      <td>NaN</td>\n",
              "    </tr>\n",
              "    <tr>\n",
              "      <th>2</th>\n",
              "      <td>3</td>\n",
              "      <td>IPL-2017</td>\n",
              "      <td>Rajkot</td>\n",
              "      <td>07-04-2017</td>\n",
              "      <td>Gujarat Lions</td>\n",
              "      <td>Kolkata Knight Riders</td>\n",
              "      <td>Kolkata Knight Riders</td>\n",
              "      <td>field</td>\n",
              "      <td>normal</td>\n",
              "      <td>0</td>\n",
              "      <td>Kolkata Knight Riders</td>\n",
              "      <td>0</td>\n",
              "      <td>10</td>\n",
              "      <td>CA Lynn</td>\n",
              "      <td>Saurashtra Cricket Association Stadium</td>\n",
              "      <td>Nitin Menon</td>\n",
              "      <td>CK Nandan</td>\n",
              "      <td>NaN</td>\n",
              "    </tr>\n",
              "    <tr>\n",
              "      <th>3</th>\n",
              "      <td>4</td>\n",
              "      <td>IPL-2017</td>\n",
              "      <td>Indore</td>\n",
              "      <td>08-04-2017</td>\n",
              "      <td>Rising Pune Supergiant</td>\n",
              "      <td>Kings XI Punjab</td>\n",
              "      <td>Kings XI Punjab</td>\n",
              "      <td>field</td>\n",
              "      <td>normal</td>\n",
              "      <td>0</td>\n",
              "      <td>Kings XI Punjab</td>\n",
              "      <td>0</td>\n",
              "      <td>6</td>\n",
              "      <td>GJ Maxwell</td>\n",
              "      <td>Holkar Cricket Stadium</td>\n",
              "      <td>AK Chaudhary</td>\n",
              "      <td>C Shamshuddin</td>\n",
              "      <td>NaN</td>\n",
              "    </tr>\n",
              "    <tr>\n",
              "      <th>4</th>\n",
              "      <td>5</td>\n",
              "      <td>IPL-2017</td>\n",
              "      <td>Bangalore</td>\n",
              "      <td>08-04-2017</td>\n",
              "      <td>Royal Challengers Bangalore</td>\n",
              "      <td>Delhi Daredevils</td>\n",
              "      <td>Royal Challengers Bangalore</td>\n",
              "      <td>bat</td>\n",
              "      <td>normal</td>\n",
              "      <td>0</td>\n",
              "      <td>Royal Challengers Bangalore</td>\n",
              "      <td>15</td>\n",
              "      <td>0</td>\n",
              "      <td>KM Jadhav</td>\n",
              "      <td>M Chinnaswamy Stadium</td>\n",
              "      <td>NaN</td>\n",
              "      <td>NaN</td>\n",
              "      <td>NaN</td>\n",
              "    </tr>\n",
              "    <tr>\n",
              "      <th>5</th>\n",
              "      <td>6</td>\n",
              "      <td>IPL-2017</td>\n",
              "      <td>Hyderabad</td>\n",
              "      <td>09-04-2017</td>\n",
              "      <td>Gujarat Lions</td>\n",
              "      <td>Sunrisers Hyderabad</td>\n",
              "      <td>Sunrisers Hyderabad</td>\n",
              "      <td>field</td>\n",
              "      <td>normal</td>\n",
              "      <td>0</td>\n",
              "      <td>Sunrisers Hyderabad</td>\n",
              "      <td>0</td>\n",
              "      <td>9</td>\n",
              "      <td>Rashid Khan</td>\n",
              "      <td>Rajiv Gandhi International Stadium, Uppal</td>\n",
              "      <td>A Deshmukh</td>\n",
              "      <td>NJ Llong</td>\n",
              "      <td>NaN</td>\n",
              "    </tr>\n",
              "    <tr>\n",
              "      <th>6</th>\n",
              "      <td>7</td>\n",
              "      <td>IPL-2017</td>\n",
              "      <td>Mumbai</td>\n",
              "      <td>09-04-2017</td>\n",
              "      <td>Kolkata Knight Riders</td>\n",
              "      <td>Mumbai Indians</td>\n",
              "      <td>Mumbai Indians</td>\n",
              "      <td>field</td>\n",
              "      <td>normal</td>\n",
              "      <td>0</td>\n",
              "      <td>Mumbai Indians</td>\n",
              "      <td>0</td>\n",
              "      <td>4</td>\n",
              "      <td>N Rana</td>\n",
              "      <td>Wankhede Stadium</td>\n",
              "      <td>Nitin Menon</td>\n",
              "      <td>CK Nandan</td>\n",
              "      <td>NaN</td>\n",
              "    </tr>\n",
              "    <tr>\n",
              "      <th>7</th>\n",
              "      <td>8</td>\n",
              "      <td>IPL-2017</td>\n",
              "      <td>Indore</td>\n",
              "      <td>10-04-2017</td>\n",
              "      <td>Royal Challengers Bangalore</td>\n",
              "      <td>Kings XI Punjab</td>\n",
              "      <td>Royal Challengers Bangalore</td>\n",
              "      <td>bat</td>\n",
              "      <td>normal</td>\n",
              "      <td>0</td>\n",
              "      <td>Kings XI Punjab</td>\n",
              "      <td>0</td>\n",
              "      <td>8</td>\n",
              "      <td>AR Patel</td>\n",
              "      <td>Holkar Cricket Stadium</td>\n",
              "      <td>AK Chaudhary</td>\n",
              "      <td>C Shamshuddin</td>\n",
              "      <td>NaN</td>\n",
              "    </tr>\n",
              "    <tr>\n",
              "      <th>8</th>\n",
              "      <td>9</td>\n",
              "      <td>IPL-2017</td>\n",
              "      <td>Pune</td>\n",
              "      <td>11-04-2017</td>\n",
              "      <td>Delhi Daredevils</td>\n",
              "      <td>Rising Pune Supergiant</td>\n",
              "      <td>Rising Pune Supergiant</td>\n",
              "      <td>field</td>\n",
              "      <td>normal</td>\n",
              "      <td>0</td>\n",
              "      <td>Delhi Daredevils</td>\n",
              "      <td>97</td>\n",
              "      <td>0</td>\n",
              "      <td>SV Samson</td>\n",
              "      <td>Maharashtra Cricket Association Stadium</td>\n",
              "      <td>AY Dandekar</td>\n",
              "      <td>S Ravi</td>\n",
              "      <td>NaN</td>\n",
              "    </tr>\n",
              "    <tr>\n",
              "      <th>9</th>\n",
              "      <td>10</td>\n",
              "      <td>IPL-2017</td>\n",
              "      <td>Mumbai</td>\n",
              "      <td>12-04-2017</td>\n",
              "      <td>Sunrisers Hyderabad</td>\n",
              "      <td>Mumbai Indians</td>\n",
              "      <td>Mumbai Indians</td>\n",
              "      <td>field</td>\n",
              "      <td>normal</td>\n",
              "      <td>0</td>\n",
              "      <td>Mumbai Indians</td>\n",
              "      <td>0</td>\n",
              "      <td>4</td>\n",
              "      <td>JJ Bumrah</td>\n",
              "      <td>Wankhede Stadium</td>\n",
              "      <td>Nitin Menon</td>\n",
              "      <td>CK Nandan</td>\n",
              "      <td>NaN</td>\n",
              "    </tr>\n",
              "  </tbody>\n",
              "</table>\n",
              "</div>"
            ],
            "text/plain": [
              "   id    Season       city        date                        team1  \\\n",
              "0   1  IPL-2017  Hyderabad  05-04-2017          Sunrisers Hyderabad   \n",
              "1   2  IPL-2017       Pune  06-04-2017               Mumbai Indians   \n",
              "2   3  IPL-2017     Rajkot  07-04-2017                Gujarat Lions   \n",
              "3   4  IPL-2017     Indore  08-04-2017       Rising Pune Supergiant   \n",
              "4   5  IPL-2017  Bangalore  08-04-2017  Royal Challengers Bangalore   \n",
              "5   6  IPL-2017  Hyderabad  09-04-2017                Gujarat Lions   \n",
              "6   7  IPL-2017     Mumbai  09-04-2017        Kolkata Knight Riders   \n",
              "7   8  IPL-2017     Indore  10-04-2017  Royal Challengers Bangalore   \n",
              "8   9  IPL-2017       Pune  11-04-2017             Delhi Daredevils   \n",
              "9  10  IPL-2017     Mumbai  12-04-2017          Sunrisers Hyderabad   \n",
              "\n",
              "                         team2                  toss_winner toss_decision  \\\n",
              "0  Royal Challengers Bangalore  Royal Challengers Bangalore         field   \n",
              "1       Rising Pune Supergiant       Rising Pune Supergiant         field   \n",
              "2        Kolkata Knight Riders        Kolkata Knight Riders         field   \n",
              "3              Kings XI Punjab              Kings XI Punjab         field   \n",
              "4             Delhi Daredevils  Royal Challengers Bangalore           bat   \n",
              "5          Sunrisers Hyderabad          Sunrisers Hyderabad         field   \n",
              "6               Mumbai Indians               Mumbai Indians         field   \n",
              "7              Kings XI Punjab  Royal Challengers Bangalore           bat   \n",
              "8       Rising Pune Supergiant       Rising Pune Supergiant         field   \n",
              "9               Mumbai Indians               Mumbai Indians         field   \n",
              "\n",
              "   result  dl_applied                       winner  win_by_runs  \\\n",
              "0  normal           0          Sunrisers Hyderabad           35   \n",
              "1  normal           0       Rising Pune Supergiant            0   \n",
              "2  normal           0        Kolkata Knight Riders            0   \n",
              "3  normal           0              Kings XI Punjab            0   \n",
              "4  normal           0  Royal Challengers Bangalore           15   \n",
              "5  normal           0          Sunrisers Hyderabad            0   \n",
              "6  normal           0               Mumbai Indians            0   \n",
              "7  normal           0              Kings XI Punjab            0   \n",
              "8  normal           0             Delhi Daredevils           97   \n",
              "9  normal           0               Mumbai Indians            0   \n",
              "\n",
              "   win_by_wickets player_of_match                                      venue  \\\n",
              "0               0    Yuvraj Singh  Rajiv Gandhi International Stadium, Uppal   \n",
              "1               7       SPD Smith    Maharashtra Cricket Association Stadium   \n",
              "2              10         CA Lynn     Saurashtra Cricket Association Stadium   \n",
              "3               6      GJ Maxwell                     Holkar Cricket Stadium   \n",
              "4               0       KM Jadhav                      M Chinnaswamy Stadium   \n",
              "5               9     Rashid Khan  Rajiv Gandhi International Stadium, Uppal   \n",
              "6               4          N Rana                           Wankhede Stadium   \n",
              "7               8        AR Patel                     Holkar Cricket Stadium   \n",
              "8               0       SV Samson    Maharashtra Cricket Association Stadium   \n",
              "9               4       JJ Bumrah                           Wankhede Stadium   \n",
              "\n",
              "          umpire1        umpire2 umpire3  \n",
              "0     AY Dandekar       NJ Llong     NaN  \n",
              "1  A Nand Kishore         S Ravi     NaN  \n",
              "2     Nitin Menon      CK Nandan     NaN  \n",
              "3    AK Chaudhary  C Shamshuddin     NaN  \n",
              "4             NaN            NaN     NaN  \n",
              "5      A Deshmukh       NJ Llong     NaN  \n",
              "6     Nitin Menon      CK Nandan     NaN  \n",
              "7    AK Chaudhary  C Shamshuddin     NaN  \n",
              "8     AY Dandekar         S Ravi     NaN  \n",
              "9     Nitin Menon      CK Nandan     NaN  "
            ]
          },
          "metadata": {},
          "execution_count": 3
        }
      ]
    },
    {
      "cell_type": "code",
      "metadata": {
        "colab": {
          "base_uri": "https://localhost:8080/"
        },
        "id": "_C3bKEFLOlVS",
        "outputId": "855fdb47-d3bf-45ad-b7ca-de96dcd46563"
      },
      "source": [
        "data.shape"
      ],
      "execution_count": null,
      "outputs": [
        {
          "output_type": "execute_result",
          "data": {
            "text/plain": [
              "(756, 18)"
            ]
          },
          "metadata": {},
          "execution_count": 4
        }
      ]
    },
    {
      "cell_type": "code",
      "metadata": {
        "id": "lAs3xcg2OmjW",
        "colab": {
          "base_uri": "https://localhost:8080/"
        },
        "outputId": "4e98f4a3-64ba-4eb1-9f37-0ef453dcc8e0"
      },
      "source": [
        "data.isna().any()"
      ],
      "execution_count": null,
      "outputs": [
        {
          "output_type": "execute_result",
          "data": {
            "text/plain": [
              "id                 False\n",
              "Season             False\n",
              "city                True\n",
              "date               False\n",
              "team1              False\n",
              "team2              False\n",
              "toss_winner        False\n",
              "toss_decision      False\n",
              "result             False\n",
              "dl_applied         False\n",
              "winner              True\n",
              "win_by_runs        False\n",
              "win_by_wickets     False\n",
              "player_of_match     True\n",
              "venue              False\n",
              "umpire1             True\n",
              "umpire2             True\n",
              "umpire3             True\n",
              "dtype: bool"
            ]
          },
          "metadata": {},
          "execution_count": 5
        }
      ]
    },
    {
      "cell_type": "code",
      "metadata": {
        "id": "cY1QqncEPEny",
        "colab": {
          "base_uri": "https://localhost:8080/"
        },
        "outputId": "4e2c0ae2-96a5-40ec-b3aa-4179d14f52f1"
      },
      "source": [
        "data.describe()"
      ],
      "execution_count": null,
      "outputs": [
        {
          "output_type": "execute_result",
          "data": {
            "text/html": [
              "<div>\n",
              "<style scoped>\n",
              "    .dataframe tbody tr th:only-of-type {\n",
              "        vertical-align: middle;\n",
              "    }\n",
              "\n",
              "    .dataframe tbody tr th {\n",
              "        vertical-align: top;\n",
              "    }\n",
              "\n",
              "    .dataframe thead th {\n",
              "        text-align: right;\n",
              "    }\n",
              "</style>\n",
              "<table border=\"1\" class=\"dataframe\">\n",
              "  <thead>\n",
              "    <tr style=\"text-align: right;\">\n",
              "      <th></th>\n",
              "      <th>id</th>\n",
              "      <th>dl_applied</th>\n",
              "      <th>win_by_runs</th>\n",
              "      <th>win_by_wickets</th>\n",
              "    </tr>\n",
              "  </thead>\n",
              "  <tbody>\n",
              "    <tr>\n",
              "      <th>count</th>\n",
              "      <td>756.000000</td>\n",
              "      <td>756.000000</td>\n",
              "      <td>756.000000</td>\n",
              "      <td>756.000000</td>\n",
              "    </tr>\n",
              "    <tr>\n",
              "      <th>mean</th>\n",
              "      <td>1792.178571</td>\n",
              "      <td>0.025132</td>\n",
              "      <td>13.283069</td>\n",
              "      <td>3.350529</td>\n",
              "    </tr>\n",
              "    <tr>\n",
              "      <th>std</th>\n",
              "      <td>3464.478148</td>\n",
              "      <td>0.156630</td>\n",
              "      <td>23.471144</td>\n",
              "      <td>3.387963</td>\n",
              "    </tr>\n",
              "    <tr>\n",
              "      <th>min</th>\n",
              "      <td>1.000000</td>\n",
              "      <td>0.000000</td>\n",
              "      <td>0.000000</td>\n",
              "      <td>0.000000</td>\n",
              "    </tr>\n",
              "    <tr>\n",
              "      <th>25%</th>\n",
              "      <td>189.750000</td>\n",
              "      <td>0.000000</td>\n",
              "      <td>0.000000</td>\n",
              "      <td>0.000000</td>\n",
              "    </tr>\n",
              "    <tr>\n",
              "      <th>50%</th>\n",
              "      <td>378.500000</td>\n",
              "      <td>0.000000</td>\n",
              "      <td>0.000000</td>\n",
              "      <td>4.000000</td>\n",
              "    </tr>\n",
              "    <tr>\n",
              "      <th>75%</th>\n",
              "      <td>567.250000</td>\n",
              "      <td>0.000000</td>\n",
              "      <td>19.000000</td>\n",
              "      <td>6.000000</td>\n",
              "    </tr>\n",
              "    <tr>\n",
              "      <th>max</th>\n",
              "      <td>11415.000000</td>\n",
              "      <td>1.000000</td>\n",
              "      <td>146.000000</td>\n",
              "      <td>10.000000</td>\n",
              "    </tr>\n",
              "  </tbody>\n",
              "</table>\n",
              "</div>"
            ],
            "text/plain": [
              "                 id  dl_applied  win_by_runs  win_by_wickets\n",
              "count    756.000000  756.000000   756.000000      756.000000\n",
              "mean    1792.178571    0.025132    13.283069        3.350529\n",
              "std     3464.478148    0.156630    23.471144        3.387963\n",
              "min        1.000000    0.000000     0.000000        0.000000\n",
              "25%      189.750000    0.000000     0.000000        0.000000\n",
              "50%      378.500000    0.000000     0.000000        4.000000\n",
              "75%      567.250000    0.000000    19.000000        6.000000\n",
              "max    11415.000000    1.000000   146.000000       10.000000"
            ]
          },
          "metadata": {},
          "execution_count": 6
        }
      ]
    },
    {
      "cell_type": "code",
      "metadata": {
        "colab": {
          "base_uri": "https://localhost:8080/"
        },
        "id": "CkzbTRaDPTqe",
        "outputId": "1d47b2e8-65e4-47ab-81d1-27d19469bcb5"
      },
      "source": [
        "#total no. of matches\n",
        "data['id'].count()"
      ],
      "execution_count": null,
      "outputs": [
        {
          "output_type": "execute_result",
          "data": {
            "text/plain": [
              "756"
            ]
          },
          "metadata": {},
          "execution_count": 7
        }
      ]
    },
    {
      "cell_type": "code",
      "metadata": {
        "id": "nL0nHVOHPxSm",
        "colab": {
          "base_uri": "https://localhost:8080/"
        },
        "outputId": "03876044-6d80-4690-a985-5c010924e7c6"
      },
      "source": [
        "#highest runs in all IPL matches\n",
        "data[data['win_by_runs']==data['win_by_runs'].max()]"
      ],
      "execution_count": null,
      "outputs": [
        {
          "output_type": "execute_result",
          "data": {
            "text/html": [
              "<div>\n",
              "<style scoped>\n",
              "    .dataframe tbody tr th:only-of-type {\n",
              "        vertical-align: middle;\n",
              "    }\n",
              "\n",
              "    .dataframe tbody tr th {\n",
              "        vertical-align: top;\n",
              "    }\n",
              "\n",
              "    .dataframe thead th {\n",
              "        text-align: right;\n",
              "    }\n",
              "</style>\n",
              "<table border=\"1\" class=\"dataframe\">\n",
              "  <thead>\n",
              "    <tr style=\"text-align: right;\">\n",
              "      <th></th>\n",
              "      <th>id</th>\n",
              "      <th>Season</th>\n",
              "      <th>city</th>\n",
              "      <th>date</th>\n",
              "      <th>team1</th>\n",
              "      <th>team2</th>\n",
              "      <th>toss_winner</th>\n",
              "      <th>toss_decision</th>\n",
              "      <th>result</th>\n",
              "      <th>dl_applied</th>\n",
              "      <th>winner</th>\n",
              "      <th>win_by_runs</th>\n",
              "      <th>win_by_wickets</th>\n",
              "      <th>player_of_match</th>\n",
              "      <th>venue</th>\n",
              "      <th>umpire1</th>\n",
              "      <th>umpire2</th>\n",
              "      <th>umpire3</th>\n",
              "    </tr>\n",
              "  </thead>\n",
              "  <tbody>\n",
              "    <tr>\n",
              "      <th>43</th>\n",
              "      <td>44</td>\n",
              "      <td>IPL-2017</td>\n",
              "      <td>Delhi</td>\n",
              "      <td>06-05-2017</td>\n",
              "      <td>Mumbai Indians</td>\n",
              "      <td>Delhi Daredevils</td>\n",
              "      <td>Delhi Daredevils</td>\n",
              "      <td>field</td>\n",
              "      <td>normal</td>\n",
              "      <td>0</td>\n",
              "      <td>Mumbai Indians</td>\n",
              "      <td>146</td>\n",
              "      <td>0</td>\n",
              "      <td>LMP Simmons</td>\n",
              "      <td>Feroz Shah Kotla</td>\n",
              "      <td>Nitin Menon</td>\n",
              "      <td>CK Nandan</td>\n",
              "      <td>NaN</td>\n",
              "    </tr>\n",
              "  </tbody>\n",
              "</table>\n",
              "</div>"
            ],
            "text/plain": [
              "    id    Season   city        date           team1             team2  \\\n",
              "43  44  IPL-2017  Delhi  06-05-2017  Mumbai Indians  Delhi Daredevils   \n",
              "\n",
              "         toss_winner toss_decision  result  dl_applied          winner  \\\n",
              "43  Delhi Daredevils         field  normal           0  Mumbai Indians   \n",
              "\n",
              "    win_by_runs  win_by_wickets player_of_match             venue  \\\n",
              "43          146               0     LMP Simmons  Feroz Shah Kotla   \n",
              "\n",
              "        umpire1    umpire2 umpire3  \n",
              "43  Nitin Menon  CK Nandan     NaN  "
            ]
          },
          "metadata": {},
          "execution_count": 8
        }
      ]
    },
    {
      "cell_type": "code",
      "metadata": {
        "id": "3lD4xHyJQO0m",
        "colab": {
          "base_uri": "https://localhost:8080/"
        },
        "outputId": "4ed76b83-532f-4913-9f27-1da2a428e979"
      },
      "source": [
        "#highest wickets in all IPL matche\n",
        "data[data['win_by_wickets']==data['win_by_wickets'].max()]"
      ],
      "execution_count": null,
      "outputs": [
        {
          "output_type": "execute_result",
          "data": {
            "text/html": [
              "<div>\n",
              "<style scoped>\n",
              "    .dataframe tbody tr th:only-of-type {\n",
              "        vertical-align: middle;\n",
              "    }\n",
              "\n",
              "    .dataframe tbody tr th {\n",
              "        vertical-align: top;\n",
              "    }\n",
              "\n",
              "    .dataframe thead th {\n",
              "        text-align: right;\n",
              "    }\n",
              "</style>\n",
              "<table border=\"1\" class=\"dataframe\">\n",
              "  <thead>\n",
              "    <tr style=\"text-align: right;\">\n",
              "      <th></th>\n",
              "      <th>id</th>\n",
              "      <th>Season</th>\n",
              "      <th>city</th>\n",
              "      <th>date</th>\n",
              "      <th>team1</th>\n",
              "      <th>team2</th>\n",
              "      <th>toss_winner</th>\n",
              "      <th>toss_decision</th>\n",
              "      <th>result</th>\n",
              "      <th>dl_applied</th>\n",
              "      <th>winner</th>\n",
              "      <th>win_by_runs</th>\n",
              "      <th>win_by_wickets</th>\n",
              "      <th>player_of_match</th>\n",
              "      <th>venue</th>\n",
              "      <th>umpire1</th>\n",
              "      <th>umpire2</th>\n",
              "      <th>umpire3</th>\n",
              "    </tr>\n",
              "  </thead>\n",
              "  <tbody>\n",
              "    <tr>\n",
              "      <th>2</th>\n",
              "      <td>3</td>\n",
              "      <td>IPL-2017</td>\n",
              "      <td>Rajkot</td>\n",
              "      <td>07-04-2017</td>\n",
              "      <td>Gujarat Lions</td>\n",
              "      <td>Kolkata Knight Riders</td>\n",
              "      <td>Kolkata Knight Riders</td>\n",
              "      <td>field</td>\n",
              "      <td>normal</td>\n",
              "      <td>0</td>\n",
              "      <td>Kolkata Knight Riders</td>\n",
              "      <td>0</td>\n",
              "      <td>10</td>\n",
              "      <td>CA Lynn</td>\n",
              "      <td>Saurashtra Cricket Association Stadium</td>\n",
              "      <td>Nitin Menon</td>\n",
              "      <td>CK Nandan</td>\n",
              "      <td>NaN</td>\n",
              "    </tr>\n",
              "    <tr>\n",
              "      <th>34</th>\n",
              "      <td>35</td>\n",
              "      <td>IPL-2017</td>\n",
              "      <td>Chandigarh</td>\n",
              "      <td>30-04-2017</td>\n",
              "      <td>Delhi Daredevils</td>\n",
              "      <td>Kings XI Punjab</td>\n",
              "      <td>Kings XI Punjab</td>\n",
              "      <td>field</td>\n",
              "      <td>normal</td>\n",
              "      <td>0</td>\n",
              "      <td>Kings XI Punjab</td>\n",
              "      <td>0</td>\n",
              "      <td>10</td>\n",
              "      <td>Sandeep Sharma</td>\n",
              "      <td>Punjab Cricket Association IS Bindra Stadium, ...</td>\n",
              "      <td>YC Barde</td>\n",
              "      <td>CK Nandan</td>\n",
              "      <td>NaN</td>\n",
              "    </tr>\n",
              "    <tr>\n",
              "      <th>71</th>\n",
              "      <td>72</td>\n",
              "      <td>IPL-2008</td>\n",
              "      <td>Mumbai</td>\n",
              "      <td>27-04-2008</td>\n",
              "      <td>Mumbai Indians</td>\n",
              "      <td>Deccan Chargers</td>\n",
              "      <td>Deccan Chargers</td>\n",
              "      <td>field</td>\n",
              "      <td>normal</td>\n",
              "      <td>0</td>\n",
              "      <td>Deccan Chargers</td>\n",
              "      <td>0</td>\n",
              "      <td>10</td>\n",
              "      <td>AC Gilchrist</td>\n",
              "      <td>Dr DY Patil Sports Academy</td>\n",
              "      <td>Asad Rauf</td>\n",
              "      <td>SL Shastri</td>\n",
              "      <td>NaN</td>\n",
              "    </tr>\n",
              "    <tr>\n",
              "      <th>119</th>\n",
              "      <td>120</td>\n",
              "      <td>IPL-2009</td>\n",
              "      <td>Cape Town</td>\n",
              "      <td>19-04-2009</td>\n",
              "      <td>Kings XI Punjab</td>\n",
              "      <td>Delhi Daredevils</td>\n",
              "      <td>Delhi Daredevils</td>\n",
              "      <td>field</td>\n",
              "      <td>normal</td>\n",
              "      <td>1</td>\n",
              "      <td>Delhi Daredevils</td>\n",
              "      <td>0</td>\n",
              "      <td>10</td>\n",
              "      <td>DL Vettori</td>\n",
              "      <td>Newlands</td>\n",
              "      <td>MR Benson</td>\n",
              "      <td>SD Ranade</td>\n",
              "      <td>NaN</td>\n",
              "    </tr>\n",
              "    <tr>\n",
              "      <th>183</th>\n",
              "      <td>184</td>\n",
              "      <td>IPL-2010</td>\n",
              "      <td>Bangalore</td>\n",
              "      <td>18-03-2010</td>\n",
              "      <td>Rajasthan Royals</td>\n",
              "      <td>Royal Challengers Bangalore</td>\n",
              "      <td>Royal Challengers Bangalore</td>\n",
              "      <td>field</td>\n",
              "      <td>normal</td>\n",
              "      <td>0</td>\n",
              "      <td>Royal Challengers Bangalore</td>\n",
              "      <td>0</td>\n",
              "      <td>10</td>\n",
              "      <td>JH Kallis</td>\n",
              "      <td>M Chinnaswamy Stadium</td>\n",
              "      <td>K Hariharan</td>\n",
              "      <td>DJ Harper</td>\n",
              "      <td>NaN</td>\n",
              "    </tr>\n",
              "    <tr>\n",
              "      <th>298</th>\n",
              "      <td>299</td>\n",
              "      <td>IPL-2011</td>\n",
              "      <td>Mumbai</td>\n",
              "      <td>20-05-2011</td>\n",
              "      <td>Mumbai Indians</td>\n",
              "      <td>Rajasthan Royals</td>\n",
              "      <td>Mumbai Indians</td>\n",
              "      <td>bat</td>\n",
              "      <td>normal</td>\n",
              "      <td>0</td>\n",
              "      <td>Rajasthan Royals</td>\n",
              "      <td>0</td>\n",
              "      <td>10</td>\n",
              "      <td>SR Watson</td>\n",
              "      <td>Wankhede Stadium</td>\n",
              "      <td>RE Koertzen</td>\n",
              "      <td>PR Reiffel</td>\n",
              "      <td>NaN</td>\n",
              "    </tr>\n",
              "    <tr>\n",
              "      <th>376</th>\n",
              "      <td>377</td>\n",
              "      <td>IPL-2012</td>\n",
              "      <td>Jaipur</td>\n",
              "      <td>20-05-2012</td>\n",
              "      <td>Rajasthan Royals</td>\n",
              "      <td>Mumbai Indians</td>\n",
              "      <td>Rajasthan Royals</td>\n",
              "      <td>bat</td>\n",
              "      <td>normal</td>\n",
              "      <td>0</td>\n",
              "      <td>Mumbai Indians</td>\n",
              "      <td>0</td>\n",
              "      <td>10</td>\n",
              "      <td>DR Smith</td>\n",
              "      <td>Sawai Mansingh Stadium</td>\n",
              "      <td>HDPK Dharmasena</td>\n",
              "      <td>C Shamshuddin</td>\n",
              "      <td>NaN</td>\n",
              "    </tr>\n",
              "    <tr>\n",
              "      <th>390</th>\n",
              "      <td>391</td>\n",
              "      <td>IPL-2013</td>\n",
              "      <td>Chandigarh</td>\n",
              "      <td>10-04-2013</td>\n",
              "      <td>Kings XI Punjab</td>\n",
              "      <td>Chennai Super Kings</td>\n",
              "      <td>Chennai Super Kings</td>\n",
              "      <td>field</td>\n",
              "      <td>normal</td>\n",
              "      <td>0</td>\n",
              "      <td>Chennai Super Kings</td>\n",
              "      <td>0</td>\n",
              "      <td>10</td>\n",
              "      <td>MEK Hussey</td>\n",
              "      <td>Punjab Cricket Association Stadium, Mohali</td>\n",
              "      <td>Aleem Dar</td>\n",
              "      <td>C Shamshuddin</td>\n",
              "      <td>NaN</td>\n",
              "    </tr>\n",
              "    <tr>\n",
              "      <th>542</th>\n",
              "      <td>543</td>\n",
              "      <td>IPL-2015</td>\n",
              "      <td>Delhi</td>\n",
              "      <td>26-04-2015</td>\n",
              "      <td>Delhi Daredevils</td>\n",
              "      <td>Royal Challengers Bangalore</td>\n",
              "      <td>Royal Challengers Bangalore</td>\n",
              "      <td>field</td>\n",
              "      <td>normal</td>\n",
              "      <td>0</td>\n",
              "      <td>Royal Challengers Bangalore</td>\n",
              "      <td>0</td>\n",
              "      <td>10</td>\n",
              "      <td>VR Aaron</td>\n",
              "      <td>Feroz Shah Kotla</td>\n",
              "      <td>M Erasmus</td>\n",
              "      <td>S Ravi</td>\n",
              "      <td>NaN</td>\n",
              "    </tr>\n",
              "    <tr>\n",
              "      <th>590</th>\n",
              "      <td>591</td>\n",
              "      <td>IPL-2016</td>\n",
              "      <td>Rajkot</td>\n",
              "      <td>21-04-2016</td>\n",
              "      <td>Gujarat Lions</td>\n",
              "      <td>Sunrisers Hyderabad</td>\n",
              "      <td>Sunrisers Hyderabad</td>\n",
              "      <td>field</td>\n",
              "      <td>normal</td>\n",
              "      <td>0</td>\n",
              "      <td>Sunrisers Hyderabad</td>\n",
              "      <td>0</td>\n",
              "      <td>10</td>\n",
              "      <td>B Kumar</td>\n",
              "      <td>Saurashtra Cricket Association Stadium</td>\n",
              "      <td>K Bharatan</td>\n",
              "      <td>HDPK Dharmasena</td>\n",
              "      <td>NaN</td>\n",
              "    </tr>\n",
              "    <tr>\n",
              "      <th>683</th>\n",
              "      <td>7941</td>\n",
              "      <td>IPL-2018</td>\n",
              "      <td>Indore</td>\n",
              "      <td>14-05-2018</td>\n",
              "      <td>Kings XI Punjab</td>\n",
              "      <td>Royal Challengers Bangalore</td>\n",
              "      <td>Royal Challengers Bangalore</td>\n",
              "      <td>field</td>\n",
              "      <td>normal</td>\n",
              "      <td>0</td>\n",
              "      <td>Royal Challengers Bangalore</td>\n",
              "      <td>0</td>\n",
              "      <td>10</td>\n",
              "      <td>UT Yadav</td>\n",
              "      <td>Holkar Cricket Stadium</td>\n",
              "      <td>Bruce Oxenford</td>\n",
              "      <td>Virender Kumar Sharma</td>\n",
              "      <td>O Nandan</td>\n",
              "    </tr>\n",
              "  </tbody>\n",
              "</table>\n",
              "</div>"
            ],
            "text/plain": [
              "       id    Season        city        date             team1  \\\n",
              "2       3  IPL-2017      Rajkot  07-04-2017     Gujarat Lions   \n",
              "34     35  IPL-2017  Chandigarh  30-04-2017  Delhi Daredevils   \n",
              "71     72  IPL-2008      Mumbai  27-04-2008    Mumbai Indians   \n",
              "119   120  IPL-2009   Cape Town  19-04-2009   Kings XI Punjab   \n",
              "183   184  IPL-2010   Bangalore  18-03-2010  Rajasthan Royals   \n",
              "298   299  IPL-2011      Mumbai  20-05-2011    Mumbai Indians   \n",
              "376   377  IPL-2012      Jaipur  20-05-2012  Rajasthan Royals   \n",
              "390   391  IPL-2013  Chandigarh  10-04-2013   Kings XI Punjab   \n",
              "542   543  IPL-2015       Delhi  26-04-2015  Delhi Daredevils   \n",
              "590   591  IPL-2016      Rajkot  21-04-2016     Gujarat Lions   \n",
              "683  7941  IPL-2018      Indore  14-05-2018   Kings XI Punjab   \n",
              "\n",
              "                           team2                  toss_winner toss_decision  \\\n",
              "2          Kolkata Knight Riders        Kolkata Knight Riders         field   \n",
              "34               Kings XI Punjab              Kings XI Punjab         field   \n",
              "71               Deccan Chargers              Deccan Chargers         field   \n",
              "119             Delhi Daredevils             Delhi Daredevils         field   \n",
              "183  Royal Challengers Bangalore  Royal Challengers Bangalore         field   \n",
              "298             Rajasthan Royals               Mumbai Indians           bat   \n",
              "376               Mumbai Indians             Rajasthan Royals           bat   \n",
              "390          Chennai Super Kings          Chennai Super Kings         field   \n",
              "542  Royal Challengers Bangalore  Royal Challengers Bangalore         field   \n",
              "590          Sunrisers Hyderabad          Sunrisers Hyderabad         field   \n",
              "683  Royal Challengers Bangalore  Royal Challengers Bangalore         field   \n",
              "\n",
              "     result  dl_applied                       winner  win_by_runs  \\\n",
              "2    normal           0        Kolkata Knight Riders            0   \n",
              "34   normal           0              Kings XI Punjab            0   \n",
              "71   normal           0              Deccan Chargers            0   \n",
              "119  normal           1             Delhi Daredevils            0   \n",
              "183  normal           0  Royal Challengers Bangalore            0   \n",
              "298  normal           0             Rajasthan Royals            0   \n",
              "376  normal           0               Mumbai Indians            0   \n",
              "390  normal           0          Chennai Super Kings            0   \n",
              "542  normal           0  Royal Challengers Bangalore            0   \n",
              "590  normal           0          Sunrisers Hyderabad            0   \n",
              "683  normal           0  Royal Challengers Bangalore            0   \n",
              "\n",
              "     win_by_wickets player_of_match  \\\n",
              "2                10         CA Lynn   \n",
              "34               10  Sandeep Sharma   \n",
              "71               10    AC Gilchrist   \n",
              "119              10      DL Vettori   \n",
              "183              10       JH Kallis   \n",
              "298              10       SR Watson   \n",
              "376              10        DR Smith   \n",
              "390              10      MEK Hussey   \n",
              "542              10        VR Aaron   \n",
              "590              10         B Kumar   \n",
              "683              10        UT Yadav   \n",
              "\n",
              "                                                 venue          umpire1  \\\n",
              "2               Saurashtra Cricket Association Stadium      Nitin Menon   \n",
              "34   Punjab Cricket Association IS Bindra Stadium, ...         YC Barde   \n",
              "71                          Dr DY Patil Sports Academy        Asad Rauf   \n",
              "119                                           Newlands        MR Benson   \n",
              "183                              M Chinnaswamy Stadium      K Hariharan   \n",
              "298                                   Wankhede Stadium      RE Koertzen   \n",
              "376                             Sawai Mansingh Stadium  HDPK Dharmasena   \n",
              "390         Punjab Cricket Association Stadium, Mohali        Aleem Dar   \n",
              "542                                   Feroz Shah Kotla        M Erasmus   \n",
              "590             Saurashtra Cricket Association Stadium       K Bharatan   \n",
              "683                             Holkar Cricket Stadium   Bruce Oxenford   \n",
              "\n",
              "                   umpire2   umpire3  \n",
              "2                CK Nandan       NaN  \n",
              "34               CK Nandan       NaN  \n",
              "71              SL Shastri       NaN  \n",
              "119              SD Ranade       NaN  \n",
              "183              DJ Harper       NaN  \n",
              "298             PR Reiffel       NaN  \n",
              "376          C Shamshuddin       NaN  \n",
              "390          C Shamshuddin       NaN  \n",
              "542                 S Ravi       NaN  \n",
              "590        HDPK Dharmasena       NaN  \n",
              "683  Virender Kumar Sharma  O Nandan  "
            ]
          },
          "metadata": {},
          "execution_count": 9
        }
      ]
    },
    {
      "cell_type": "code",
      "metadata": {
        "id": "Bzx5-Wv0Nrj4"
      },
      "source": [
        "#umpire hosted in most matches of each season\n",
        "z = data.groupby(['Season','umpire1']).count()['id']\n",
        "z = z.reset_index()\n",
        "z = z.sort_values('id',ascending=False)\n",
        "z = z.groupby('Season',as_index=False).agg({'id':'max','umpire1':'first'})\n",
        "z.sort_values('id',inplace=True,ascending=False)"
      ],
      "execution_count": null,
      "outputs": []
    },
    {
      "cell_type": "code",
      "metadata": {
        "id": "wR0pO7KQ2wbW",
        "colab": {
          "base_uri": "https://localhost:8080/",
          "height": 55
        },
        "outputId": "eb61ccac-c9f3-4dda-a104-4f20c67263ca"
      },
      "source": [
        "plt.figure(figsize=(10,6))\n",
        "sns.barplot(y=z['umpire1'],x=z['id'],data=z)\n",
        "plt.show()"
      ],
      "execution_count": null,
      "outputs": [
        {
          "output_type": "display_data",
          "data": {
            "image/png": "[encoded data removed]",
            "text/plain": [
              "<Figure size 720x432 with 1 Axes>"
            ]
          },
          "metadata": {
            "needs_background": "light"
          }
        }
      ]
    },
    {
      "cell_type": "code",
      "metadata": {
        "id": "rsNH9AhlSD-k",
        "colab": {
          "base_uri": "https://localhost:8080/"
        },
        "outputId": "7e056a5d-d53e-4d4f-f923-6acb75d0f82a"
      },
      "source": [
        "#checking where umpire1 value not present\n",
        "data[data['umpire1'].isna().values]"
      ],
      "execution_count": null,
      "outputs": [
        {
          "output_type": "execute_result",
          "data": {
            "text/html": [
              "<div>\n",
              "<style scoped>\n",
              "    .dataframe tbody tr th:only-of-type {\n",
              "        vertical-align: middle;\n",
              "    }\n",
              "\n",
              "    .dataframe tbody tr th {\n",
              "        vertical-align: top;\n",
              "    }\n",
              "\n",
              "    .dataframe thead th {\n",
              "        text-align: right;\n",
              "    }\n",
              "</style>\n",
              "<table border=\"1\" class=\"dataframe\">\n",
              "  <thead>\n",
              "    <tr style=\"text-align: right;\">\n",
              "      <th></th>\n",
              "      <th>id</th>\n",
              "      <th>Season</th>\n",
              "      <th>city</th>\n",
              "      <th>date</th>\n",
              "      <th>team1</th>\n",
              "      <th>team2</th>\n",
              "      <th>toss_winner</th>\n",
              "      <th>toss_decision</th>\n",
              "      <th>result</th>\n",
              "      <th>dl_applied</th>\n",
              "      <th>winner</th>\n",
              "      <th>win_by_runs</th>\n",
              "      <th>win_by_wickets</th>\n",
              "      <th>player_of_match</th>\n",
              "      <th>venue</th>\n",
              "      <th>umpire1</th>\n",
              "      <th>umpire2</th>\n",
              "      <th>umpire3</th>\n",
              "    </tr>\n",
              "  </thead>\n",
              "  <tbody>\n",
              "    <tr>\n",
              "      <th>4</th>\n",
              "      <td>5</td>\n",
              "      <td>IPL-2017</td>\n",
              "      <td>Bangalore</td>\n",
              "      <td>08-04-2017</td>\n",
              "      <td>Royal Challengers Bangalore</td>\n",
              "      <td>Delhi Daredevils</td>\n",
              "      <td>Royal Challengers Bangalore</td>\n",
              "      <td>bat</td>\n",
              "      <td>normal</td>\n",
              "      <td>0</td>\n",
              "      <td>Royal Challengers Bangalore</td>\n",
              "      <td>15</td>\n",
              "      <td>0</td>\n",
              "      <td>KM Jadhav</td>\n",
              "      <td>M Chinnaswamy Stadium</td>\n",
              "      <td>NaN</td>\n",
              "      <td>NaN</td>\n",
              "      <td>NaN</td>\n",
              "    </tr>\n",
              "    <tr>\n",
              "      <th>753</th>\n",
              "      <td>11413</td>\n",
              "      <td>IPL-2019</td>\n",
              "      <td>Visakhapatnam</td>\n",
              "      <td>08-05-2019</td>\n",
              "      <td>Sunrisers Hyderabad</td>\n",
              "      <td>Delhi Capitals</td>\n",
              "      <td>Delhi Capitals</td>\n",
              "      <td>field</td>\n",
              "      <td>normal</td>\n",
              "      <td>0</td>\n",
              "      <td>Delhi Capitals</td>\n",
              "      <td>0</td>\n",
              "      <td>2</td>\n",
              "      <td>RR Pant</td>\n",
              "      <td>ACA-VDCA Stadium</td>\n",
              "      <td>NaN</td>\n",
              "      <td>NaN</td>\n",
              "      <td>NaN</td>\n",
              "    </tr>\n",
              "  </tbody>\n",
              "</table>\n",
              "</div>"
            ],
            "text/plain": [
              "        id    Season           city        date                        team1  \\\n",
              "4        5  IPL-2017      Bangalore  08-04-2017  Royal Challengers Bangalore   \n",
              "753  11413  IPL-2019  Visakhapatnam  08-05-2019          Sunrisers Hyderabad   \n",
              "\n",
              "                team2                  toss_winner toss_decision  result  \\\n",
              "4    Delhi Daredevils  Royal Challengers Bangalore           bat  normal   \n",
              "753    Delhi Capitals               Delhi Capitals         field  normal   \n",
              "\n",
              "     dl_applied                       winner  win_by_runs  win_by_wickets  \\\n",
              "4             0  Royal Challengers Bangalore           15               0   \n",
              "753           0               Delhi Capitals            0               2   \n",
              "\n",
              "    player_of_match                  venue umpire1 umpire2 umpire3  \n",
              "4         KM Jadhav  M Chinnaswamy Stadium     NaN     NaN     NaN  \n",
              "753         RR Pant       ACA-VDCA Stadium     NaN     NaN     NaN  "
            ]
          },
          "metadata": {},
          "execution_count": 12
        }
      ]
    },
    {
      "cell_type": "code",
      "metadata": {
        "id": "qiXSxPQ-ehGr"
      },
      "source": [
        "#no. of all the matches mentored by umpire1 \n",
        "ump_match = ((data.groupby('umpire1',as_index=False))['id'].count())\n",
        "ump_match = ump_match.sort_values('id',ascending=False)\n",
        "ump_match = ump_match.reset_index()\n",
        "ump_match"
      ],
      "execution_count": null,
      "outputs": []
    },
    {
      "cell_type": "code",
      "metadata": {
        "id": "Hmb7VAq5dqlv",
        "colab": {
          "base_uri": "https://localhost:8080/",
          "height": 279
        },
        "outputId": "555b899a-6a96-4cb7-b6ae-d62e6d7a7250"
      },
      "source": [
        "#no. of all the matches mentored by umpire1 as a graph(first 5)\n",
        "plt.figure(figsize=(10,4))\n",
        "sns.barplot(x=ump_match['umpire1'].head(5),y=ump_match['id'].head(5),data=ump_match.head(5))\n",
        "plt.show()"
      ],
      "execution_count": null,
      "outputs": [
        {
          "output_type": "display_data",
          "data": {
            "image/png": "[encoded data removed]",
            "text/plain": [
              "<Figure size 720x288 with 1 Axes>"
            ]
          },
          "metadata": {
            "needs_background": "light"
          }
        }
      ]
    },
    {
      "cell_type": "code",
      "metadata": {
        "id": "GhP2wn5zJvPR"
      },
      "source": [
        "#total no. of win by wickets and win by runs in each season\n",
        "a = data.groupby('Season',as_index=False)\n",
        "b = a.sum()"
      ],
      "execution_count": null,
      "outputs": []
    },
    {
      "cell_type": "code",
      "metadata": {
        "id": "BsuRkbsE4L1I",
        "colab": {
          "base_uri": "https://localhost:8080/"
        },
        "outputId": "785fa410-be53-411d-9046-d7bc6625c3df"
      },
      "source": [
        "#total no. of win by wickets in each season as graph\n",
        "plt.figure(figsize=(12,2))\n",
        "sns.barplot(x=b['Season'],y=b['win_by_wickets'],data=b)\n",
        "plt.show()"
      ],
      "execution_count": null,
      "outputs": [
        {
          "output_type": "display_data",
          "data": {
            "image/png": "[encoded data removed]",
            "text/plain": [
              "<Figure size 864x144 with 1 Axes>"
            ]
          },
          "metadata": {
            "needs_background": "light"
          }
        }
      ]
    },
    {
      "cell_type": "code",
      "metadata": {
        "id": "498QWRr4_U0X"
      },
      "source": [
        "#maximum win_by_runs and winner of each season\n",
        "sort_data = data.sort_values('win_by_runs',ascending=False)\n",
        "g = sort_data.groupby('Season',as_index=False).agg({'win_by_runs':'max','winner':'first'})\n",
        "g = g.sort_values('win_by_runs',ascending=False)\n"
      ],
      "execution_count": null,
      "outputs": []
    },
    {
      "cell_type": "code",
      "metadata": {
        "id": "nw23ygVJaRB_"
      },
      "source": [
        "#bar plot for max winning run score in each season\n",
        "plt.figure(figsize=(10,4))\n",
        "sns.barplot(x=g['Season'],y=g['win_by_runs'],data = g)\n",
        "plt.show()"
      ],
      "execution_count": null,
      "outputs": []
    },
    {
      "cell_type": "code",
      "metadata": {
        "id": "xvMzw5S9A0OX",
        "colab": {
          "base_uri": "https://localhost:8080/"
        },
        "outputId": "1c8b8936-9864-46fd-c44d-13932e6a30bf"
      },
      "source": [
        "#highest winning run score in IPL\n",
        "data[data['win_by_runs']==data['win_by_runs'].max()]"
      ],
      "execution_count": null,
      "outputs": [
        {
          "output_type": "execute_result",
          "data": {
            "text/html": [
              "<div>\n",
              "<style scoped>\n",
              "    .dataframe tbody tr th:only-of-type {\n",
              "        vertical-align: middle;\n",
              "    }\n",
              "\n",
              "    .dataframe tbody tr th {\n",
              "        vertical-align: top;\n",
              "    }\n",
              "\n",
              "    .dataframe thead th {\n",
              "        text-align: right;\n",
              "    }\n",
              "</style>\n",
              "<table border=\"1\" class=\"dataframe\">\n",
              "  <thead>\n",
              "    <tr style=\"text-align: right;\">\n",
              "      <th></th>\n",
              "      <th>id</th>\n",
              "      <th>Season</th>\n",
              "      <th>city</th>\n",
              "      <th>date</th>\n",
              "      <th>team1</th>\n",
              "      <th>team2</th>\n",
              "      <th>toss_winner</th>\n",
              "      <th>toss_decision</th>\n",
              "      <th>result</th>\n",
              "      <th>dl_applied</th>\n",
              "      <th>winner</th>\n",
              "      <th>win_by_runs</th>\n",
              "      <th>win_by_wickets</th>\n",
              "      <th>player_of_match</th>\n",
              "      <th>venue</th>\n",
              "      <th>umpire1</th>\n",
              "      <th>umpire2</th>\n",
              "      <th>umpire3</th>\n",
              "    </tr>\n",
              "  </thead>\n",
              "  <tbody>\n",
              "    <tr>\n",
              "      <th>43</th>\n",
              "      <td>44</td>\n",
              "      <td>IPL-2017</td>\n",
              "      <td>Delhi</td>\n",
              "      <td>06-05-2017</td>\n",
              "      <td>Mumbai Indians</td>\n",
              "      <td>Delhi Daredevils</td>\n",
              "      <td>Delhi Daredevils</td>\n",
              "      <td>field</td>\n",
              "      <td>normal</td>\n",
              "      <td>0</td>\n",
              "      <td>Mumbai Indians</td>\n",
              "      <td>146</td>\n",
              "      <td>0</td>\n",
              "      <td>LMP Simmons</td>\n",
              "      <td>Feroz Shah Kotla</td>\n",
              "      <td>Nitin Menon</td>\n",
              "      <td>CK Nandan</td>\n",
              "      <td>NaN</td>\n",
              "    </tr>\n",
              "  </tbody>\n",
              "</table>\n",
              "</div>"
            ],
            "text/plain": [
              "    id    Season   city        date           team1             team2  \\\n",
              "43  44  IPL-2017  Delhi  06-05-2017  Mumbai Indians  Delhi Daredevils   \n",
              "\n",
              "         toss_winner toss_decision  result  dl_applied          winner  \\\n",
              "43  Delhi Daredevils         field  normal           0  Mumbai Indians   \n",
              "\n",
              "    win_by_runs  win_by_wickets player_of_match             venue  \\\n",
              "43          146               0     LMP Simmons  Feroz Shah Kotla   \n",
              "\n",
              "        umpire1    umpire2 umpire3  \n",
              "43  Nitin Menon  CK Nandan     NaN  "
            ]
          },
          "metadata": {},
          "execution_count": 19
        }
      ]
    },
    {
      "cell_type": "code",
      "metadata": {
        "id": "Z2dtL2cGLMuy"
      },
      "source": [
        "#matches played in each season\n",
        "plt.figure(figsize=(10,3))\n",
        "a = (data.groupby('Season',as_index=False)['id'].count()).sort_values('id',ascending=False)\n",
        "sns.barplot(x= a['Season'],y=a['id'],data = a)\n",
        "plt.show()"
      ],
      "execution_count": null,
      "outputs": []
    },
    {
      "cell_type": "code",
      "metadata": {
        "id": "2r7GiM4xQhBu"
      },
      "source": [
        "#bar plot for winning teams showing highest no. of times winner\n",
        "data1 = (data.groupby('winner',as_index=False)['id'].count()).sort_values('id',ascending=False)\n",
        "f = plt.figure(figsize=(10,5))\n",
        "sns.barplot(x=data1['id'],y=data1['winner'],data=data1)\n",
        "plt.xlabel('count')\n",
        "plt.show()"
      ],
      "execution_count": null,
      "outputs": []
    },
    {
      "cell_type": "code",
      "metadata": {
        "id": "nxMdPo9YXZcK",
        "colab": {
          "base_uri": "https://localhost:8080/"
        },
        "outputId": "b6833780-0f25-44c6-e54c-fa45c444c83d"
      },
      "source": [
        "#probability of winner based on toss winner\n",
        "prob_win = data[data['winner']==data['toss_winner']]\n",
        "print(\"probability winner is toss winner:\",prob_win.count().loc['id'])\n",
        "prob_loss = data[data['winner']!=data['toss_winner']]\n",
        "print(\"probability winner is not toss winner:\",prob_loss.count().loc['id'])"
      ],
      "execution_count": null,
      "outputs": [
        {
          "output_type": "stream",
          "name": "stdout",
          "text": [
            "probability winner is toss winner: 393\n",
            "probability winner is not toss winner: 363\n"
          ]
        }
      ]
    },
    {
      "cell_type": "code",
      "metadata": {
        "id": "bxgvmJRdLcQr"
      },
      "source": [
        "#city hosting most no. of matches\n",
        "match_city = (data.groupby('city',as_index=False).count()).sort_values('id',ascending=False)\n",
        "match_city"
      ],
      "execution_count": null,
      "outputs": []
    },
    {
      "cell_type": "code",
      "metadata": {
        "id": "JrWeIascUsD-"
      },
      "source": [
        "#city hosting most no. of matches as graph\n",
        "plt.figure(figsize=(10,6))\n",
        "sns.barplot(x=(match_city['city']).head(5),y=(match_city['id']).head(5),data=(match_city).head(5))\n",
        "plt.show()"
      ],
      "execution_count": null,
      "outputs": []
    },
    {
      "cell_type": "code",
      "metadata": {
        "id": "EjhcYcKLV3tU",
        "colab": {
          "base_uri": "https://localhost:8080/"
        },
        "outputId": "dd36dd4c-5264-4865-8942-474b77b2dd45"
      },
      "source": [
        "#probability of choosing field / bat on winning toss\n",
        "prob_field = (data[data['toss_decision']=='field'])['id'].count()\n",
        "print(\"toss decision is field:\",prob_field)\n",
        "prob_bat = (data[data['toss_decision']=='bat'])['id'].count()\n",
        "print(\"toss decision is bat:\",prob_bat)"
      ],
      "execution_count": null,
      "outputs": [
        {
          "output_type": "stream",
          "name": "stdout",
          "text": [
            "toss decision is field: 463\n",
            "toss decision is bat: 293\n"
          ]
        }
      ]
    },
    {
      "cell_type": "code",
      "metadata": {
        "id": "nPNBVjpkYkfj"
      },
      "source": [
        "#probability of choosing field / bat on winning toss as graph\n",
        "plt.figure(figsize=(10,6))\n",
        "prob_toss = data.groupby('toss_decision',as_index=False)['id'].count()\n",
        "sns.barplot(x=prob_toss['toss_decision'],y=prob_toss['id'],data=prob_toss)\n",
        "plt.show()"
      ],
      "execution_count": null,
      "outputs": []
    },
    {
      "cell_type": "code",
      "metadata": {
        "id": "OxhUuqZSbimI"
      },
      "source": [
        "#matches where there has been win by runs\n",
        "win_by_runs = data[data['win_by_runs']!=0]\n",
        "win_by_wicket = data[data['win_by_wickets']!=0]"
      ],
      "execution_count": null,
      "outputs": []
    },
    {
      "cell_type": "code",
      "metadata": {
        "id": "FGy4GvDMhP8H"
      },
      "source": [
        "#boxplot for matches where there has been win by runs\n",
        "plt.figure(figsize=(10,6))\n",
        "sns.boxplot(y=win_by_runs['win_by_runs'],data=win_by_runs,color='r')\n",
        "plt.show()"
      ],
      "execution_count": null,
      "outputs": []
    },
    {
      "cell_type": "code",
      "metadata": {
        "id": "b_BcSEYFc0ar"
      },
      "source": [
        "#boxplot for matches where there has been win by wickets\n",
        "plt.figure(figsize=(10,6))\n",
        "sns.boxplot(y=win_by_wicket['win_by_wickets'],data=win_by_wicket,color='r')\n",
        "plt.show()"
      ],
      "execution_count": null,
      "outputs": []
    },
    {
      "cell_type": "code",
      "metadata": {
        "id": "0l-3CNB5eak7"
      },
      "source": [
        "#sorting based on who won highest time player of the match title\n",
        "man_of_match = data.groupby('player_of_match',as_index=False)['id'].count()\n",
        "man_of_match = (man_of_match.sort_values('id',ascending=False)).reset_index()"
      ],
      "execution_count": null,
      "outputs": []
    },
    {
      "cell_type": "code",
      "metadata": {
        "colab": {
          "base_uri": "https://localhost:8080/",
          "height": 81
        },
        "id": "DSuZC612gLCo",
        "outputId": "ee65ea2f-e23b-414f-9f40-66e21d2d85b6"
      },
      "source": [
        "#highest winning player of match\n",
        "man_of_match[man_of_match['id']==man_of_match['id'].max()]"
      ],
      "execution_count": null,
      "outputs": [
        {
          "output_type": "execute_result",
          "data": {
            "text/html": [
              "<div>\n",
              "<style scoped>\n",
              "    .dataframe tbody tr th:only-of-type {\n",
              "        vertical-align: middle;\n",
              "    }\n",
              "\n",
              "    .dataframe tbody tr th {\n",
              "        vertical-align: top;\n",
              "    }\n",
              "\n",
              "    .dataframe thead th {\n",
              "        text-align: right;\n",
              "    }\n",
              "</style>\n",
              "<table border=\"1\" class=\"dataframe\">\n",
              "  <thead>\n",
              "    <tr style=\"text-align: right;\">\n",
              "      <th></th>\n",
              "      <th>index</th>\n",
              "      <th>player_of_match</th>\n",
              "      <th>id</th>\n",
              "    </tr>\n",
              "  </thead>\n",
              "  <tbody>\n",
              "    <tr>\n",
              "      <th>0</th>\n",
              "      <td>35</td>\n",
              "      <td>CH Gayle</td>\n",
              "      <td>21</td>\n",
              "    </tr>\n",
              "  </tbody>\n",
              "</table>\n",
              "</div>"
            ],
            "text/plain": [
              "   index player_of_match  id\n",
              "0     35        CH Gayle  21"
            ]
          },
          "metadata": {},
          "execution_count": 65
        }
      ]
    },
    {
      "cell_type": "code",
      "metadata": {
        "id": "A49TtEPhgt9k"
      },
      "source": [
        "#player of match title winners bar plot\n",
        "plt.figure(figsize=(10,6))\n",
        "sns.barplot(x=man_of_match['id'].head(6),y=man_of_match['player_of_match'].head(6),data=man_of_match.head(6))\n",
        "plt.show()"
      ],
      "execution_count": null,
      "outputs": []
    },
    {
      "cell_type": "code",
      "metadata": {
        "id": "o_-RHTAbhiyy"
      },
      "source": [
        "#analyzing for a team for example here Mumbai Indians\n",
        "mum_ind = data[(data['team1']=='Mumbai Indians')|(data['team2']=='Mumbai Indians')]"
      ],
      "execution_count": null,
      "outputs": []
    },
    {
      "cell_type": "code",
      "metadata": {
        "id": "uHk67gG9jsdU"
      },
      "source": [
        "winner = mum_ind[mum_ind['winner']=='Mumbai Indians']"
      ],
      "execution_count": null,
      "outputs": []
    },
    {
      "cell_type": "code",
      "metadata": {
        "id": "neRUx7bhkALQ"
      },
      "source": [
        "times_won = winner.groupby('Season',as_index=False).count()\n"
      ],
      "execution_count": null,
      "outputs": []
    },
    {
      "cell_type": "code",
      "metadata": {
        "colab": {
          "base_uri": "https://localhost:8080/",
          "height": 279
        },
        "id": "0WzVzr7UkXdU",
        "outputId": "a8d1d98e-40f7-46d4-9fff-6991c41454e3"
      },
      "source": [
        "plt.figure(figsize=(10,4))\n",
        "sns.barplot(x=times_won['Season'],y=times_won['id'],data=times_won)\n",
        "plt.show()"
      ],
      "execution_count": null,
      "outputs": [
        {
          "output_type": "display_data",
          "data": {
            "image/png": "[encoded data removed]",
            "text/plain": [
              "<Figure size 720x288 with 1 Axes>"
            ]
          },
          "metadata": {
            "needs_background": "light"
          }
        }
      ]
    }
  ]
}